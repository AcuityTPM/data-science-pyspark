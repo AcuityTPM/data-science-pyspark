{
 "cells": [
  {
   "cell_type": "code",
   "execution_count": 38,
   "metadata": {},
   "outputs": [],
   "source": [
    "import findspark\n",
    "findspark.init()\n",
    "\n",
    "import pyspark\n",
    "from pyspark.sql import SparkSession\n",
    "from pyspark.sql.types import StructType, StructField, StringType, IntegerType, ArrayType, DoubleType, BooleanType\n",
    "from pyspark.sql.functions import col, array_contains, avg, kurtosis, mean, skewness, stddev, variance, round\n",
    "\n",
    "# Get or instantiate a SparkContext and register it as a singleton object\n",
    "sc = SparkSession.builder.appName('adq').getOrCreate()"
   ]
  },
  {
   "cell_type": "code",
   "execution_count": 5,
   "metadata": {
    "tags": []
   },
   "outputs": [
    {
     "output_type": "stream",
     "name": "stdout",
     "text": "root\n |-- Date: string (nullable = true)\n |-- Open: double (nullable = true)\n |-- High: double (nullable = true)\n |-- Low: double (nullable = true)\n |-- Close: double (nullable = true)\n |-- Adj Close: double (nullable = true)\n |-- Volume: integer (nullable = true)\n\n+----------+---------+---------+---------+---------+---------+--------+\n|      Date|     Open|     High|      Low|    Close|Adj Close|  Volume|\n+----------+---------+---------+---------+---------+---------+--------+\n|2010-06-29|     19.0|     25.0|17.540001|23.889999|23.889999|18766300|\n|2010-06-30|25.790001|    30.42|23.299999|    23.83|    23.83|17187100|\n|2010-07-01|     25.0|    25.92|    20.27|21.959999|21.959999| 8218800|\n|2010-07-02|     23.0|     23.1|18.709999|19.200001|19.200001| 5139800|\n|2010-07-06|     20.0|     20.0|    15.83|16.110001|16.110001| 6866900|\n|2010-07-07|     16.4|16.629999|    14.98|     15.8|     15.8| 6921700|\n|2010-07-08|16.139999|    17.52|    15.57|17.459999|17.459999| 7711400|\n|2010-07-09|    17.58|     17.9|16.549999|     17.4|     17.4| 4050600|\n|2010-07-12|17.950001|    18.07|     17.0|17.049999|17.049999| 2202500|\n|2010-07-13|17.389999|18.639999|     16.9|18.139999|18.139999| 2680100|\n|2010-07-14|17.940001|    20.15|    17.76|    19.84|    19.84| 4195200|\n|2010-07-15|19.940001|     21.5|     19.0|19.889999|19.889999| 3739800|\n|2010-07-16|20.700001|21.299999|20.049999|20.639999|20.639999| 2621300|\n|2010-07-19|21.370001|    22.25|    20.92|    21.91|    21.91| 2486500|\n|2010-07-20|    21.85|    21.85|20.049999|20.299999|20.299999| 1825300|\n|2010-07-21|    20.66|     20.9|     19.5|20.219999|20.219999| 1252500|\n|2010-07-22|     20.5|    21.25|20.370001|     21.0|     21.0|  957800|\n|2010-07-23|21.190001|21.559999|21.059999|21.290001|21.290001|  653600|\n|2010-07-26|     21.5|     21.5|20.299999|20.950001|20.950001|  922200|\n|2010-07-27|    20.91|    21.18|    20.26|20.549999|20.549999|  619700|\n+----------+---------+---------+---------+---------+---------+--------+\nonly showing top 20 rows\n\n"
    }
   ],
   "source": [
    "# DataFrame created by reading a csv file\n",
    "\n",
    "delimiter = \",\"\n",
    "\n",
    "df = sc.read.format(\"csv\").option(\"inferSchema\", True).option(\"header\", True).option(\"sep\", delimiter).load(\"TSLA.csv\")\n",
    "\n",
    "df.printSchema()\n",
    "df.show()"
   ]
  },
  {
   "cell_type": "markdown",
   "metadata": {},
   "source": [
    "# Data Science PySpark Notebook\n",
    "---\n"
   ]
  },
  {
   "cell_type": "code",
   "execution_count": 12,
   "metadata": {
    "tags": []
   },
   "outputs": [
    {
     "output_type": "stream",
     "name": "stdout",
     "text": "+-------+----------+------------------+------------------+------------------+------------------+------------------+-----------------+\n|summary|      Date|              Open|              High|               Low|             Close|         Adj Close|           Volume|\n+-------+----------+------------------+------------------+------------------+------------------+------------------+-----------------+\n|  count|      2416|              2416|              2416|              2416|              2416|              2416|             2416|\n|   mean|      null| 186.2711466001655|189.57822425620878|182.91663908236822|186.40365078187054|186.40365078187054|5572721.688741722|\n| stddev|      null|118.74016318157156|120.89232871387047|116.85759099326675|119.13601997634154|119.13601997634154|4987809.151888422|\n|    min|2010-06-29|         16.139999|         16.629999|             14.98|              15.8|              15.8|           118500|\n|    max|2020-02-03|        673.690002|        786.140015|         673.52002|             780.0|             780.0|         47065000|\n+-------+----------+------------------+------------------+------------------+------------------+------------------+-----------------+\n\n"
    }
   ],
   "source": [
    "df.describe().show()"
   ]
  },
  {
   "cell_type": "code",
   "execution_count": 66,
   "metadata": {
    "tags": []
   },
   "outputs": [
    {
     "output_type": "stream",
     "name": "stdout",
     "text": "['Date', 'Open', 'High', 'Close', 'Adj Close', 'Volume']\n['DATE', 'OPEN', 'HIGH', 'LOW', 'CLOSE', 'ADJ CLOSE', 'VOLUME']\n['DATE', 'OPEN', 'HIGH', 'LOW', 'CLOSE', 'ADJ CLOSE', 'VOLUME']\n"
    }
   ],
   "source": [
    "# Lambda functions\n",
    "\n",
    "import functools\n",
    "\n",
    "names = df.schema.names\n",
    "\n",
    "print(list(filter(lambda arg: len(arg) > 3, names)))\n",
    "print(list(map(lambda arg: arg.upper(), names)))\n",
    "\n",
    "x = []\n",
    "for name in names:\n",
    "    x.append(name.upper())\n",
    "print(x)\n"
   ]
  },
  {
   "cell_type": "code",
   "execution_count": 68,
   "metadata": {
    "tags": []
   },
   "outputs": [],
   "source": [
    "# List of columns without string data\n",
    "\n",
    "numeric_columns = [i[0] for i in df.dtypes if i[1] != 'string']\n",
    "\n",
    "# kurtosis calculation for all columns in a DataFrame\n",
    "\n",
    "kurtosis_df = df.select([kurtosis(col(df_col)).alias(df_col) for df_col in numeric_columns])\n",
    "kurtosis_df = kurtosis_df.select([round(col(df_col), 3).alias(df_col) for df_col in numeric_columns])\n",
    "kurtosis_df = kurtosis_df.withColumn(\"Metric\", lit(\"Kurtosis\"))\n",
    "kurtosis_df = kurtosis_df.select([\"Metric\"]+numeric_columns)"
   ]
  },
  {
   "cell_type": "code",
   "execution_count": 69,
   "metadata": {},
   "outputs": [],
   "source": [
    "# variance calculation for all columns in a DataFrame\n",
    "\n",
    "variance_df = df.select([variance(col(df_col)).alias(df_col) for df_col in numeric_columns])\n",
    "variance_df = variance_df.select([round(col(df_col), 3).alias(df_col) for df_col in numeric_columns])\n",
    "variance_df = variance_df.withColumn(\"Metric\", lit(\"Variance\"))\n",
    "variance_df = variance_df.select([\"Metric\"]+numeric_columns)"
   ]
  },
  {
   "cell_type": "code",
   "execution_count": 70,
   "metadata": {},
   "outputs": [],
   "source": [
    "# skewness calculation for all columns in a DataFrame\n",
    "\n",
    "skewness_df = df.select([skewness(col(df_col)).alias(df_col) for df_col in numeric_columns])\n",
    "skewness_df = skewness_df.select([round(col(df_col), 3).alias(df_col) for df_col in numeric_columns])\n",
    "skewness_df = skewness_df.withColumn(\"Metric\", lit(\"Skewness\"))\n",
    "skewness_df = skewness_df.select([\"Metric\"]+numeric_columns)"
   ]
  },
  {
   "cell_type": "code",
   "execution_count": 71,
   "metadata": {},
   "outputs": [],
   "source": [
    "# stddev calculation for all columns in a DataFrame\n",
    "\n",
    "stddev_df = df.select([stddev(col(df_col)).alias(df_col) for df_col in numeric_columns])\n",
    "stddev_df = stddev_df.select([round(col(df_col), 3).alias(df_col) for df_col in numeric_columns])\n",
    "stddev_df = stddev_df.withColumn(\"Metric\", lit(\"Stddev\"))\n",
    "stddev_df = stddev_df.select([\"Metric\"]+numeric_columns)"
   ]
  },
  {
   "cell_type": "code",
   "execution_count": 72,
   "metadata": {
    "tags": []
   },
   "outputs": [
    {
     "output_type": "stream",
     "name": "stdout",
     "text": "+--------+---------+---------+---------+---------+---------+-------------------+\n|  Metric|     Open|     High|      Low|    Close|Adj Close|             Volume|\n+--------+---------+---------+---------+---------+---------+-------------------+\n|Kurtosis|    -0.73|   -0.585|   -0.724|   -0.577|   -0.577|               7.41|\n|  Stddev|   118.74|  120.892|  116.858|  119.136|  119.136|        4987809.152|\n|Variance|14099.226|14614.955|13655.697|14193.391|14193.391|2.48782401356619E13|\n|Skewness|   -0.014|    0.012|    -0.01|    0.017|    0.017|              2.164|\n+--------+---------+---------+---------+---------+---------+-------------------+\n\n"
    }
   ],
   "source": [
    "summary_df = kurtosis_df.union(stddev_df).union(variance_df).union(skewness_df)\n",
    "\n",
    "summary_df.show()"
   ]
  },
  {
   "cell_type": "code",
   "execution_count": null,
   "metadata": {},
   "outputs": [],
   "source": []
  }
 ],
 "metadata": {
  "language_info": {
   "codemirror_mode": {
    "name": "ipython",
    "version": 3
   },
   "file_extension": ".py",
   "mimetype": "text/x-python",
   "name": "python",
   "nbconvert_exporter": "python",
   "pygments_lexer": "ipython3",
   "version": 3
  },
  "orig_nbformat": 2,
  "kernelspec": {
   "name": "python_defaultSpec_1594755548796",
   "display_name": "Python 3.7.7 64-bit ('dsenv': conda)"
  }
 },
 "nbformat": 4,
 "nbformat_minor": 2
}